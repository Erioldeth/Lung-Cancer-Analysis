{
 "cells": [
  {
   "cell_type": "code",
   "execution_count": 1,
   "metadata": {},
   "outputs": [],
   "source": [
    "import warnings\n",
    "warnings.simplefilter(action='ignore', category=FutureWarning)"
   ]
  },
  {
   "cell_type": "code",
   "execution_count": 2,
   "metadata": {},
   "outputs": [
    {
     "name": "stdout",
     "output_type": "stream",
     "text": [
      "<class 'pandas.core.frame.DataFrame'>\n",
      "RangeIndex: 276 entries, 0 to 275\n",
      "Data columns (total 16 columns):\n",
      " #   Column                 Non-Null Count  Dtype\n",
      "---  ------                 --------------  -----\n",
      " 0   gender                 276 non-null    int64\n",
      " 1   age                    276 non-null    int64\n",
      " 2   smoking                276 non-null    int64\n",
      " 3   yellow fingers         276 non-null    int64\n",
      " 4   anxiety                276 non-null    int64\n",
      " 5   peer pressure          276 non-null    int64\n",
      " 6   chronic disease        276 non-null    int64\n",
      " 7   fatigue                276 non-null    int64\n",
      " 8   allergy                276 non-null    int64\n",
      " 9   wheezing               276 non-null    int64\n",
      " 10  alcohol consuming      276 non-null    int64\n",
      " 11  coughing               276 non-null    int64\n",
      " 12  shortness of breath    276 non-null    int64\n",
      " 13  swallowing difficulty  276 non-null    int64\n",
      " 14  chest pain             276 non-null    int64\n",
      " 15  lung cancer            276 non-null    int64\n",
      "dtypes: int64(16)\n",
      "memory usage: 34.6 KB\n"
     ]
    }
   ],
   "source": [
    "import pandas as pd\n",
    "\n",
    "df = pd.read_csv('data/cancer_data.csv')\n",
    "df.info()"
   ]
  },
  {
   "cell_type": "code",
   "execution_count": 3,
   "metadata": {},
   "outputs": [],
   "source": [
    "from sdv.metadata import SingleTableMetadata\n",
    "\n",
    "metadata = SingleTableMetadata()\n",
    "metadata.detect_from_dataframe(df)"
   ]
  },
  {
   "cell_type": "code",
   "execution_count": 4,
   "metadata": {},
   "outputs": [
    {
     "name": "stderr",
     "output_type": "stream",
     "text": [
      "d:\\Projects\\Visual Studio Code\\lung_cancer_analysis\\.venv\\Lib\\site-packages\\sdv\\single_table\\base.py:79: UserWarning: We strongly recommend saving the metadata using 'save_to_json' for replicability in future SDV versions.\n",
      "  warnings.warn(\n"
     ]
    },
    {
     "data": {
      "text/html": [
       "<div>\n",
       "<style scoped>\n",
       "    .dataframe tbody tr th:only-of-type {\n",
       "        vertical-align: middle;\n",
       "    }\n",
       "\n",
       "    .dataframe tbody tr th {\n",
       "        vertical-align: top;\n",
       "    }\n",
       "\n",
       "    .dataframe thead th {\n",
       "        text-align: right;\n",
       "    }\n",
       "</style>\n",
       "<table border=\"1\" class=\"dataframe\">\n",
       "  <thead>\n",
       "    <tr style=\"text-align: right;\">\n",
       "      <th></th>\n",
       "      <th>Epoch</th>\n",
       "      <th>Batch</th>\n",
       "      <th>Loss</th>\n",
       "    </tr>\n",
       "  </thead>\n",
       "  <tbody>\n",
       "    <tr>\n",
       "      <th>0</th>\n",
       "      <td>0</td>\n",
       "      <td>0</td>\n",
       "      <td>26.172392</td>\n",
       "    </tr>\n",
       "    <tr>\n",
       "      <th>1</th>\n",
       "      <td>1</td>\n",
       "      <td>0</td>\n",
       "      <td>26.263220</td>\n",
       "    </tr>\n",
       "    <tr>\n",
       "      <th>2</th>\n",
       "      <td>2</td>\n",
       "      <td>0</td>\n",
       "      <td>24.831133</td>\n",
       "    </tr>\n",
       "    <tr>\n",
       "      <th>3</th>\n",
       "      <td>3</td>\n",
       "      <td>0</td>\n",
       "      <td>25.033331</td>\n",
       "    </tr>\n",
       "    <tr>\n",
       "      <th>4</th>\n",
       "      <td>4</td>\n",
       "      <td>0</td>\n",
       "      <td>24.134647</td>\n",
       "    </tr>\n",
       "    <tr>\n",
       "      <th>...</th>\n",
       "      <td>...</td>\n",
       "      <td>...</td>\n",
       "      <td>...</td>\n",
       "    </tr>\n",
       "    <tr>\n",
       "      <th>2495</th>\n",
       "      <td>2495</td>\n",
       "      <td>0</td>\n",
       "      <td>6.478133</td>\n",
       "    </tr>\n",
       "    <tr>\n",
       "      <th>2496</th>\n",
       "      <td>2496</td>\n",
       "      <td>0</td>\n",
       "      <td>6.650020</td>\n",
       "    </tr>\n",
       "    <tr>\n",
       "      <th>2497</th>\n",
       "      <td>2497</td>\n",
       "      <td>0</td>\n",
       "      <td>6.817426</td>\n",
       "    </tr>\n",
       "    <tr>\n",
       "      <th>2498</th>\n",
       "      <td>2498</td>\n",
       "      <td>0</td>\n",
       "      <td>6.890628</td>\n",
       "    </tr>\n",
       "    <tr>\n",
       "      <th>2499</th>\n",
       "      <td>2499</td>\n",
       "      <td>0</td>\n",
       "      <td>6.510553</td>\n",
       "    </tr>\n",
       "  </tbody>\n",
       "</table>\n",
       "<p>2500 rows × 3 columns</p>\n",
       "</div>"
      ],
      "text/plain": [
       "      Epoch  Batch       Loss\n",
       "0         0      0  26.172392\n",
       "1         1      0  26.263220\n",
       "2         2      0  24.831133\n",
       "3         3      0  25.033331\n",
       "4         4      0  24.134647\n",
       "...     ...    ...        ...\n",
       "2495   2495      0   6.478133\n",
       "2496   2496      0   6.650020\n",
       "2497   2497      0   6.817426\n",
       "2498   2498      0   6.890628\n",
       "2499   2499      0   6.510553\n",
       "\n",
       "[2500 rows x 3 columns]"
      ]
     },
     "execution_count": 4,
     "metadata": {},
     "output_type": "execute_result"
    }
   ],
   "source": [
    "from sdv.single_table import TVAESynthesizer\n",
    "\n",
    "synthesizer = TVAESynthesizer(\n",
    "    metadata,\n",
    "    embedding_dim=256,\n",
    "    compress_dims=(256, 256),\n",
    "    decompress_dims=(256, 256),\n",
    "    epochs=2500,\n",
    ")\n",
    "\n",
    "synthesizer.fit(df)\n",
    "\n",
    "synthesizer.get_loss_values()"
   ]
  },
  {
   "cell_type": "code",
   "execution_count": 6,
   "metadata": {},
   "outputs": [],
   "source": [
    "# synthesizer = TVAESynthesizer.load('synthesizer.pkl')\n",
    "synthesizer.save('synthesizer.pkl')"
   ]
  },
  {
   "cell_type": "code",
   "execution_count": 5,
   "metadata": {},
   "outputs": [
    {
     "name": "stderr",
     "output_type": "stream",
     "text": [
      "Sampling rows:   0%|          | 0/82600 [00:00<?, ?it/s]"
     ]
    },
    {
     "name": "stderr",
     "output_type": "stream",
     "text": [
      "Sampling rows: : 83000it [00:39, 2125.12it/s]                         \n"
     ]
    },
    {
     "name": "stdout",
     "output_type": "stream",
     "text": [
      "Generating report ...\n",
      "(1/2) Evaluating Column Shapes: : 100%|██████████| 16/16 [00:00<00:00, 173.84it/s]\n",
      "(2/2) Evaluating Column Pair Trends: : 100%|██████████| 120/120 [00:12<00:00,  9.93it/s]\n",
      "\n",
      "Overall Score: 89.58%\n",
      "\n",
      "Properties:\n",
      "- Column Shapes: 96.62%\n",
      "- Column Pair Trends: 82.53%\n",
      "<class 'pandas.core.frame.DataFrame'>\n",
      "Index: 30741 entries, 0 to 82874\n",
      "Data columns (total 16 columns):\n",
      " #   Column                 Non-Null Count  Dtype\n",
      "---  ------                 --------------  -----\n",
      " 0   gender                 30741 non-null  int64\n",
      " 1   age                    30741 non-null  int64\n",
      " 2   smoking                30741 non-null  int64\n",
      " 3   yellow fingers         30741 non-null  int64\n",
      " 4   anxiety                30741 non-null  int64\n",
      " 5   peer pressure          30741 non-null  int64\n",
      " 6   chronic disease        30741 non-null  int64\n",
      " 7   fatigue                30741 non-null  int64\n",
      " 8   allergy                30741 non-null  int64\n",
      " 9   wheezing               30741 non-null  int64\n",
      " 10  alcohol consuming      30741 non-null  int64\n",
      " 11  coughing               30741 non-null  int64\n",
      " 12  shortness of breath    30741 non-null  int64\n",
      " 13  swallowing difficulty  30741 non-null  int64\n",
      " 14  chest pain             30741 non-null  int64\n",
      " 15  lung cancer            30741 non-null  int64\n",
      "dtypes: int64(16)\n",
      "memory usage: 5.0 MB\n"
     ]
    }
   ],
   "source": [
    "from sdv.evaluation.single_table import evaluate_quality\n",
    "\n",
    "synth_df = synthesizer.sample(82600, batch_size=500)\n",
    "big_df = pd.concat([df, synth_df], ignore_index=True).drop_duplicates()\n",
    "report = evaluate_quality(df, big_df, metadata)\n",
    "big_df.info()"
   ]
  },
  {
   "cell_type": "code",
   "execution_count": 7,
   "metadata": {},
   "outputs": [],
   "source": [
    "big_df.to_csv('data/big_cancer_data.csv', index=False)"
   ]
  }
 ],
 "metadata": {
  "kernelspec": {
   "display_name": ".venv",
   "language": "python",
   "name": "python3"
  },
  "language_info": {
   "codemirror_mode": {
    "name": "ipython",
    "version": 3
   },
   "file_extension": ".py",
   "mimetype": "text/x-python",
   "name": "python",
   "nbconvert_exporter": "python",
   "pygments_lexer": "ipython3",
   "version": "3.11.8"
  }
 },
 "nbformat": 4,
 "nbformat_minor": 2
}
