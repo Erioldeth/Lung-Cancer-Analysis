{
 "cells": [
  {
   "cell_type": "code",
   "execution_count": 1,
   "metadata": {},
   "outputs": [],
   "source": [
    "import warnings\n",
    "warnings.simplefilter(action='ignore', category=FutureWarning)"
   ]
  },
  {
   "cell_type": "code",
   "execution_count": 2,
   "metadata": {},
   "outputs": [
    {
     "name": "stdout",
     "output_type": "stream",
     "text": [
      "<class 'pandas.core.frame.DataFrame'>\n",
      "RangeIndex: 1000 entries, 0 to 999\n",
      "Data columns (total 24 columns):\n",
      " #   Column                    Non-Null Count  Dtype \n",
      "---  ------                    --------------  ----- \n",
      " 0   Age                       1000 non-null   int64 \n",
      " 1   Gender                    1000 non-null   object\n",
      " 2   Air Pollution             1000 non-null   int64 \n",
      " 3   Alcohol use               1000 non-null   int64 \n",
      " 4   Dust Allergy              1000 non-null   int64 \n",
      " 5   OccuPational Hazards      1000 non-null   int64 \n",
      " 6   Genetic Risk              1000 non-null   int64 \n",
      " 7   chronic Lung Disease      1000 non-null   int64 \n",
      " 8   Balanced Diet             1000 non-null   int64 \n",
      " 9   Obesity                   1000 non-null   int64 \n",
      " 10  Smoking                   1000 non-null   int64 \n",
      " 11  Passive Smoker            1000 non-null   int64 \n",
      " 12  Chest Pain                1000 non-null   int64 \n",
      " 13  Coughing of Blood         1000 non-null   int64 \n",
      " 14  Fatigue                   1000 non-null   int64 \n",
      " 15  Weight Loss               1000 non-null   int64 \n",
      " 16  Shortness of Breath       1000 non-null   int64 \n",
      " 17  Wheezing                  1000 non-null   int64 \n",
      " 18  Swallowing Difficulty     1000 non-null   int64 \n",
      " 19  Clubbing of Finger Nails  1000 non-null   int64 \n",
      " 20  Frequent Cold             1000 non-null   int64 \n",
      " 21  Dry Cough                 1000 non-null   int64 \n",
      " 22  Snoring                   1000 non-null   int64 \n",
      " 23  Level                     1000 non-null   object\n",
      "dtypes: int64(22), object(2)\n",
      "memory usage: 187.6+ KB\n"
     ]
    }
   ],
   "source": [
    "import pandas as pd\n",
    "\n",
    "df = pd.read_csv('data/cancer_data.csv')\n",
    "df.info()"
   ]
  },
  {
   "cell_type": "code",
   "execution_count": 3,
   "metadata": {},
   "outputs": [
    {
     "name": "stdout",
     "output_type": "stream",
     "text": [
      "<class 'pandas.core.frame.DataFrame'>\n",
      "RangeIndex: 1000 entries, 0 to 999\n",
      "Data columns (total 24 columns):\n",
      " #   Column                    Non-Null Count  Dtype\n",
      "---  ------                    --------------  -----\n",
      " 0   Age                       1000 non-null   int64\n",
      " 1   Gender                    1000 non-null   int64\n",
      " 2   Air Pollution             1000 non-null   int64\n",
      " 3   Alcohol use               1000 non-null   int64\n",
      " 4   Dust Allergy              1000 non-null   int64\n",
      " 5   OccuPational Hazards      1000 non-null   int64\n",
      " 6   Genetic Risk              1000 non-null   int64\n",
      " 7   chronic Lung Disease      1000 non-null   int64\n",
      " 8   Balanced Diet             1000 non-null   int64\n",
      " 9   Obesity                   1000 non-null   int64\n",
      " 10  Smoking                   1000 non-null   int64\n",
      " 11  Passive Smoker            1000 non-null   int64\n",
      " 12  Chest Pain                1000 non-null   int64\n",
      " 13  Coughing of Blood         1000 non-null   int64\n",
      " 14  Fatigue                   1000 non-null   int64\n",
      " 15  Weight Loss               1000 non-null   int64\n",
      " 16  Shortness of Breath       1000 non-null   int64\n",
      " 17  Wheezing                  1000 non-null   int64\n",
      " 18  Swallowing Difficulty     1000 non-null   int64\n",
      " 19  Clubbing of Finger Nails  1000 non-null   int64\n",
      " 20  Frequent Cold             1000 non-null   int64\n",
      " 21  Dry Cough                 1000 non-null   int64\n",
      " 22  Snoring                   1000 non-null   int64\n",
      " 23  Level                     1000 non-null   int64\n",
      "dtypes: int64(24)\n",
      "memory usage: 187.6 KB\n"
     ]
    }
   ],
   "source": [
    "df.replace(\n",
    "    {\n",
    "        'Gender':{'Male':0,'Female':1},\n",
    "        'Level':{'Normal':0,'Benign':1,'Malignant':2}\n",
    "    },\n",
    "    inplace=True\n",
    ")\n",
    "df.info()"
   ]
  },
  {
   "cell_type": "code",
   "execution_count": 4,
   "metadata": {},
   "outputs": [],
   "source": [
    "from sdv.metadata import SingleTableMetadata\n",
    "\n",
    "metadata = SingleTableMetadata()\n",
    "metadata.detect_from_dataframe(df)"
   ]
  },
  {
   "cell_type": "code",
   "execution_count": 6,
   "metadata": {},
   "outputs": [
    {
     "data": {
      "text/html": [
       "<div>\n",
       "<style scoped>\n",
       "    .dataframe tbody tr th:only-of-type {\n",
       "        vertical-align: middle;\n",
       "    }\n",
       "\n",
       "    .dataframe tbody tr th {\n",
       "        vertical-align: top;\n",
       "    }\n",
       "\n",
       "    .dataframe thead th {\n",
       "        text-align: right;\n",
       "    }\n",
       "</style>\n",
       "<table border=\"1\" class=\"dataframe\">\n",
       "  <thead>\n",
       "    <tr style=\"text-align: right;\">\n",
       "      <th></th>\n",
       "      <th>Epoch</th>\n",
       "      <th>Batch</th>\n",
       "      <th>Loss</th>\n",
       "    </tr>\n",
       "  </thead>\n",
       "  <tbody>\n",
       "    <tr>\n",
       "      <th>0</th>\n",
       "      <td>0</td>\n",
       "      <td>0</td>\n",
       "      <td>95.572693</td>\n",
       "    </tr>\n",
       "    <tr>\n",
       "      <th>1</th>\n",
       "      <td>0</td>\n",
       "      <td>1</td>\n",
       "      <td>124.664413</td>\n",
       "    </tr>\n",
       "    <tr>\n",
       "      <th>2</th>\n",
       "      <td>1</td>\n",
       "      <td>0</td>\n",
       "      <td>97.038643</td>\n",
       "    </tr>\n",
       "    <tr>\n",
       "      <th>3</th>\n",
       "      <td>1</td>\n",
       "      <td>1</td>\n",
       "      <td>96.498344</td>\n",
       "    </tr>\n",
       "    <tr>\n",
       "      <th>4</th>\n",
       "      <td>2</td>\n",
       "      <td>0</td>\n",
       "      <td>100.876518</td>\n",
       "    </tr>\n",
       "    <tr>\n",
       "      <th>...</th>\n",
       "      <td>...</td>\n",
       "      <td>...</td>\n",
       "      <td>...</td>\n",
       "    </tr>\n",
       "    <tr>\n",
       "      <th>9995</th>\n",
       "      <td>4997</td>\n",
       "      <td>1</td>\n",
       "      <td>4.055758</td>\n",
       "    </tr>\n",
       "    <tr>\n",
       "      <th>9996</th>\n",
       "      <td>4998</td>\n",
       "      <td>0</td>\n",
       "      <td>3.408872</td>\n",
       "    </tr>\n",
       "    <tr>\n",
       "      <th>9997</th>\n",
       "      <td>4998</td>\n",
       "      <td>1</td>\n",
       "      <td>3.473060</td>\n",
       "    </tr>\n",
       "    <tr>\n",
       "      <th>9998</th>\n",
       "      <td>4999</td>\n",
       "      <td>0</td>\n",
       "      <td>3.702660</td>\n",
       "    </tr>\n",
       "    <tr>\n",
       "      <th>9999</th>\n",
       "      <td>4999</td>\n",
       "      <td>1</td>\n",
       "      <td>3.587948</td>\n",
       "    </tr>\n",
       "  </tbody>\n",
       "</table>\n",
       "<p>10000 rows × 3 columns</p>\n",
       "</div>"
      ],
      "text/plain": [
       "      Epoch  Batch        Loss\n",
       "0         0      0   95.572693\n",
       "1         0      1  124.664413\n",
       "2         1      0   97.038643\n",
       "3         1      1   96.498344\n",
       "4         2      0  100.876518\n",
       "...     ...    ...         ...\n",
       "9995   4997      1    4.055758\n",
       "9996   4998      0    3.408872\n",
       "9997   4998      1    3.473060\n",
       "9998   4999      0    3.702660\n",
       "9999   4999      1    3.587948\n",
       "\n",
       "[10000 rows x 3 columns]"
      ]
     },
     "execution_count": 6,
     "metadata": {},
     "output_type": "execute_result"
    }
   ],
   "source": [
    "from sdv.single_table import TVAESynthesizer\n",
    "\n",
    "synthesizer = TVAESynthesizer(\n",
    "    metadata,\n",
    "    embedding_dim=512,\n",
    "    compress_dims=(512, 512),\n",
    "    decompress_dims=(512, 512),\n",
    "    epochs=5000,\n",
    ")\n",
    "\n",
    "synthesizer.fit(df)\n",
    "\n",
    "synthesizer.get_loss_values()"
   ]
  },
  {
   "cell_type": "code",
   "execution_count": 8,
   "metadata": {},
   "outputs": [],
   "source": [
    "# synthesizer = TVAESynthesizer.load('synthesizer.pkl')\n",
    "synthesizer.save('synthesizer.pkl')"
   ]
  },
  {
   "cell_type": "code",
   "execution_count": 15,
   "metadata": {},
   "outputs": [
    {
     "name": "stderr",
     "output_type": "stream",
     "text": [
      "Sampling rows: 100%|██████████| 300000/300000 [02:05<00:00, 2383.81it/s]\n"
     ]
    },
    {
     "name": "stdout",
     "output_type": "stream",
     "text": [
      "Generating report ...\n",
      "(1/2) Evaluating Column Shapes: : 100%|██████████| 24/24 [00:00<00:00, 92.67it/s]\n",
      "(2/2) Evaluating Column Pair Trends: : 100%|██████████| 276/276 [00:33<00:00,  8.32it/s]\n",
      "\n",
      "Overall Score: 81.45%\n",
      "\n",
      "Properties:\n",
      "- Column Shapes: 90.81%\n",
      "- Column Pair Trends: 72.1%\n",
      "<class 'pandas.core.frame.DataFrame'>\n",
      "Index: 101640 entries, 0 to 300995\n",
      "Data columns (total 24 columns):\n",
      " #   Column                    Non-Null Count   Dtype\n",
      "---  ------                    --------------   -----\n",
      " 0   Age                       101640 non-null  int64\n",
      " 1   Gender                    101640 non-null  int64\n",
      " 2   Air Pollution             101640 non-null  int64\n",
      " 3   Alcohol use               101640 non-null  int64\n",
      " 4   Dust Allergy              101640 non-null  int64\n",
      " 5   OccuPational Hazards      101640 non-null  int64\n",
      " 6   Genetic Risk              101640 non-null  int64\n",
      " 7   chronic Lung Disease      101640 non-null  int64\n",
      " 8   Balanced Diet             101640 non-null  int64\n",
      " 9   Obesity                   101640 non-null  int64\n",
      " 10  Smoking                   101640 non-null  int64\n",
      " 11  Passive Smoker            101640 non-null  int64\n",
      " 12  Chest Pain                101640 non-null  int64\n",
      " 13  Coughing of Blood         101640 non-null  int64\n",
      " 14  Fatigue                   101640 non-null  int64\n",
      " 15  Weight Loss               101640 non-null  int64\n",
      " 16  Shortness of Breath       101640 non-null  int64\n",
      " 17  Wheezing                  101640 non-null  int64\n",
      " 18  Swallowing Difficulty     101640 non-null  int64\n",
      " 19  Clubbing of Finger Nails  101640 non-null  int64\n",
      " 20  Frequent Cold             101640 non-null  int64\n",
      " 21  Dry Cough                 101640 non-null  int64\n",
      " 22  Snoring                   101640 non-null  int64\n",
      " 23  Level                     101640 non-null  int64\n",
      "dtypes: int64(24)\n",
      "memory usage: 23.4 MB\n"
     ]
    }
   ],
   "source": [
    "from sdv.evaluation.single_table import evaluate_quality\n",
    "\n",
    "synth_df = synthesizer.sample(300000, batch_size=500)\n",
    "big_df = pd.concat([df, synth_df], ignore_index=True).drop_duplicates()\n",
    "report = evaluate_quality(df, big_df, metadata)\n",
    "big_df.info()"
   ]
  },
  {
   "cell_type": "code",
   "execution_count": 16,
   "metadata": {},
   "outputs": [],
   "source": [
    "big_df.replace(\n",
    "    {\n",
    "        'Gender':{0:'Male',1:'Female'},\n",
    "        'Level':{0:'Normal',1:'Benign',2:'Malignant'}\n",
    "    },\n",
    "    inplace=True\n",
    ")\n",
    "\n",
    "big_df.to_csv('data/big_cancer_data.csv', index=False)"
   ]
  }
 ],
 "metadata": {
  "kernelspec": {
   "display_name": ".venv",
   "language": "python",
   "name": "python3"
  },
  "language_info": {
   "codemirror_mode": {
    "name": "ipython",
    "version": 3
   },
   "file_extension": ".py",
   "mimetype": "text/x-python",
   "name": "python",
   "nbconvert_exporter": "python",
   "pygments_lexer": "ipython3",
   "version": "3.11.8"
  }
 },
 "nbformat": 4,
 "nbformat_minor": 2
}
