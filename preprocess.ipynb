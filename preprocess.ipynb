{
 "cells": [
  {
   "cell_type": "code",
   "execution_count": 4,
   "metadata": {},
   "outputs": [
    {
     "name": "stdout",
     "output_type": "stream",
     "text": [
      "<class 'pandas.core.frame.DataFrame'>\n",
      "RangeIndex: 101640 entries, 0 to 101639\n",
      "Data columns (total 24 columns):\n",
      " #   Column                    Non-Null Count   Dtype \n",
      "---  ------                    --------------   ----- \n",
      " 0   Age                       101640 non-null  int64 \n",
      " 1   Gender                    101640 non-null  object\n",
      " 2   Air Pollution             101640 non-null  int64 \n",
      " 3   Alcohol use               101640 non-null  int64 \n",
      " 4   Dust Allergy              101640 non-null  int64 \n",
      " 5   OccuPational Hazards      101640 non-null  int64 \n",
      " 6   Genetic Risk              101640 non-null  int64 \n",
      " 7   chronic Lung Disease      101640 non-null  int64 \n",
      " 8   Balanced Diet             101640 non-null  int64 \n",
      " 9   Obesity                   101640 non-null  int64 \n",
      " 10  Smoking                   101640 non-null  int64 \n",
      " 11  Passive Smoker            101640 non-null  int64 \n",
      " 12  Chest Pain                101640 non-null  int64 \n",
      " 13  Coughing of Blood         101640 non-null  int64 \n",
      " 14  Fatigue                   101640 non-null  int64 \n",
      " 15  Weight Loss               101640 non-null  int64 \n",
      " 16  Shortness of Breath       101640 non-null  int64 \n",
      " 17  Wheezing                  101640 non-null  int64 \n",
      " 18  Swallowing Difficulty     101640 non-null  int64 \n",
      " 19  Clubbing of Finger Nails  101640 non-null  int64 \n",
      " 20  Frequent Cold             101640 non-null  int64 \n",
      " 21  Dry Cough                 101640 non-null  int64 \n",
      " 22  Snoring                   101640 non-null  int64 \n",
      " 23  Level                     101640 non-null  object\n",
      "dtypes: int64(22), object(2)\n",
      "memory usage: 18.6+ MB\n"
     ]
    }
   ],
   "source": [
    "import pandas as pd\n",
    "\n",
    "df = pd.read_csv('data/cancer_data.csv')\n",
    "df.info()"
   ]
  },
  {
   "cell_type": "code",
   "execution_count": 5,
   "metadata": {},
   "outputs": [
    {
     "name": "stdout",
     "output_type": "stream",
     "text": [
      "<class 'pandas.core.frame.DataFrame'>\n",
      "RangeIndex: 1000 entries, 0 to 999\n",
      "Data columns (total 24 columns):\n",
      " #   Column                    Non-Null Count  Dtype \n",
      "---  ------                    --------------  ----- \n",
      " 0   Age                       1000 non-null   int64 \n",
      " 1   Gender                    1000 non-null   object\n",
      " 2   Air Pollution             1000 non-null   int64 \n",
      " 3   Alcohol use               1000 non-null   int64 \n",
      " 4   Dust Allergy              1000 non-null   int64 \n",
      " 5   OccuPational Hazards      1000 non-null   int64 \n",
      " 6   Genetic Risk              1000 non-null   int64 \n",
      " 7   chronic Lung Disease      1000 non-null   int64 \n",
      " 8   Balanced Diet             1000 non-null   int64 \n",
      " 9   Obesity                   1000 non-null   int64 \n",
      " 10  Smoking                   1000 non-null   int64 \n",
      " 11  Passive Smoker            1000 non-null   int64 \n",
      " 12  Chest Pain                1000 non-null   int64 \n",
      " 13  Coughing of Blood         1000 non-null   int64 \n",
      " 14  Fatigue                   1000 non-null   int64 \n",
      " 15  Weight Loss               1000 non-null   int64 \n",
      " 16  Shortness of Breath       1000 non-null   int64 \n",
      " 17  Wheezing                  1000 non-null   int64 \n",
      " 18  Swallowing Difficulty     1000 non-null   int64 \n",
      " 19  Clubbing of Finger Nails  1000 non-null   int64 \n",
      " 20  Frequent Cold             1000 non-null   int64 \n",
      " 21  Dry Cough                 1000 non-null   int64 \n",
      " 22  Snoring                   1000 non-null   int64 \n",
      " 23  Level                     1000 non-null   object\n",
      "dtypes: int64(22), object(2)\n",
      "memory usage: 187.6+ KB\n"
     ]
    }
   ],
   "source": [
    "# df.drop_duplicates(inplace=True)\n",
    "\n",
    "# df.drop(['index', 'Patient Id'], axis=1, inplace=True)\n",
    "# df.replace(\n",
    "#     {\n",
    "#         'Gender':{1:'Male',2:'Female'},\n",
    "#         'Level':{'Low':'Normal','Medium':'Benign','High':'Malignant'}\n",
    "#     },\n",
    "#     inplace=True\n",
    "# )\n",
    "\n",
    "# df.info()"
   ]
  },
  {
   "cell_type": "code",
   "execution_count": 6,
   "metadata": {},
   "outputs": [],
   "source": [
    "df.to_csv('data/cancer_data.csv', index=False)"
   ]
  }
 ],
 "metadata": {
  "kernelspec": {
   "display_name": ".venv",
   "language": "python",
   "name": "python3"
  },
  "language_info": {
   "codemirror_mode": {
    "name": "ipython",
    "version": 3
   },
   "file_extension": ".py",
   "mimetype": "text/x-python",
   "name": "python",
   "nbconvert_exporter": "python",
   "pygments_lexer": "ipython3",
   "version": "3.11.8"
  }
 },
 "nbformat": 4,
 "nbformat_minor": 2
}
