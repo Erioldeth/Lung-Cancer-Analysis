{
 "cells": [
  {
   "cell_type": "code",
   "execution_count": 59,
   "metadata": {},
   "outputs": [],
   "source": [
    "import pandas as pd\n",
    "from imblearn.over_sampling import RandomOverSampler\n",
    "from sklearn.model_selection import train_test_split\n",
    "\n",
    "data = pd.read_csv(\"../data/orig_cancer_data.csv\")\n",
    "data = pd.read_csv(\"../data/cancer_data.csv\")\n",
    "\n",
    "data = data.drop([\"Age\", \"Gender\", \"Snoring\", \"Swallowing Difficulty\"], axis=1)\n",
    "data[\"Level\"] = data[\"Level\"].map({\"Normal\": 0, \"Benign\": 1, \"Malignant\": 2})\n",
    "\n",
    "sampler = RandomOverSampler(random_state=4)\n",
    "X, y = sampler.fit_resample(data.drop(\"Level\", axis=1), data[\"Level\"])\n",
    "\n",
    "X_train, X_test, y_train, y_test = train_test_split(X, y, test_size=0.2, random_state=4, stratify=y)"
   ]
  },
  {
   "cell_type": "code",
   "execution_count": 18,
   "metadata": {},
   "outputs": [],
   "source": [
    "from sklearn.model_selection import GridSearchCV\n",
    "from sklearn.metrics import classification_report\n",
    "from joblib import load, dump"
   ]
  },
  {
   "cell_type": "code",
   "execution_count": 60,
   "metadata": {},
   "outputs": [
    {
     "name": "stdout",
     "output_type": "stream",
     "text": [
      "              precision    recall  f1-score   support\n",
      "\n",
      "           0       0.81      0.87      0.84      7427\n",
      "           1       0.79      0.72      0.75      7427\n",
      "           2       0.89      0.91      0.90      7427\n",
      "\n",
      "    accuracy                           0.83     22281\n",
      "   macro avg       0.83      0.83      0.83     22281\n",
      "weighted avg       0.83      0.83      0.83     22281\n",
      "\n"
     ]
    }
   ],
   "source": [
    "from sklearn.neighbors import KNeighborsClassifier\n",
    "\n",
    "# param_vals = {\n",
    "#     \"n_neighbors\": list(range(1, 51)),\n",
    "# }\n",
    "# knn = GridSearchCV(KNeighborsClassifier(), param_vals, verbose=1)\n",
    "# knn.fit(X_train, y_train)\n",
    "# knn.best_params_\n",
    "\n",
    "knn = KNeighborsClassifier(n_neighbors=1)\n",
    "knn.fit(X_train, y_train)\n",
    "print(classification_report(y_test, knn.predict(X_test)))\n",
    "\n",
    "# knn = load(\"../models/knn.pkl\")"
   ]
  },
  {
   "cell_type": "code",
   "execution_count": 65,
   "metadata": {},
   "outputs": [
    {
     "data": {
      "text/plain": [
       "['../models/knn_83.pkl']"
      ]
     },
     "execution_count": 65,
     "metadata": {},
     "output_type": "execute_result"
    }
   ],
   "source": [
    "dump(knn, \"../models/knn_83.pkl\", 3)"
   ]
  },
  {
   "cell_type": "code",
   "execution_count": 61,
   "metadata": {},
   "outputs": [
    {
     "name": "stdout",
     "output_type": "stream",
     "text": [
      "              precision    recall  f1-score   support\n",
      "\n",
      "           0       0.85      0.83      0.84      7427\n",
      "           1       0.79      0.79      0.79      7427\n",
      "           2       0.90      0.92      0.91      7427\n",
      "\n",
      "    accuracy                           0.85     22281\n",
      "   macro avg       0.85      0.85      0.85     22281\n",
      "weighted avg       0.85      0.85      0.85     22281\n",
      "\n"
     ]
    }
   ],
   "source": [
    "from sklearn.svm import SVC\n",
    "\n",
    "# param_vals = {\n",
    "#     \"C\": [0.1, 0.5, 1, 5, 10, 50, 100, 500],\n",
    "#     \"gamma\": [0.001,0.01,0.1,1,10,100]\n",
    "# }\n",
    "# svc = GridSearchCV(SVC(), param_vals, verbose=1)\n",
    "# svc.fit(X_train, y_train)\n",
    "# svc.best_params_\n",
    "\n",
    "svc = SVC(C=50, gamma=0.001)\n",
    "svc.fit(X_train, y_train)\n",
    "print(classification_report(y_test, svc.predict(X_test)))\n",
    "\n",
    "# svc = load(\"../models/svc.pkl\")"
   ]
  },
  {
   "cell_type": "code",
   "execution_count": 67,
   "metadata": {},
   "outputs": [
    {
     "data": {
      "text/plain": [
       "['../models/svc_85.pkl']"
      ]
     },
     "execution_count": 67,
     "metadata": {},
     "output_type": "execute_result"
    }
   ],
   "source": [
    "dump(svc, \"../models/svc_85.pkl\", 3)"
   ]
  },
  {
   "cell_type": "code",
   "execution_count": 62,
   "metadata": {},
   "outputs": [
    {
     "name": "stdout",
     "output_type": "stream",
     "text": [
      "              precision    recall  f1-score   support\n",
      "\n",
      "           0       0.82      0.84      0.83      7427\n",
      "           1       0.75      0.70      0.73      7427\n",
      "           2       0.87      0.91      0.89      7427\n",
      "\n",
      "    accuracy                           0.82     22281\n",
      "   macro avg       0.81      0.82      0.81     22281\n",
      "weighted avg       0.81      0.82      0.81     22281\n",
      "\n"
     ]
    }
   ],
   "source": [
    "from sklearn.linear_model import LogisticRegression\n",
    "\n",
    "# param_vals = {\n",
    "#     \"C\": [0.1, 0.5, 1, 5, 10, 50, 100, 500],\n",
    "#     \"max_iter\": [1000, 1500, 2000, 2500]\n",
    "# }\n",
    "# lr = GridSearchCV(LogisticRegression(), param_vals, verbose=1)\n",
    "# lr.fit(X_train, y_train)\n",
    "# lr.best_params_\n",
    "\n",
    "lr = LogisticRegression(C=50, max_iter=1000)\n",
    "lr.fit(X_train, y_train)\n",
    "print(classification_report(y_test, lr.predict(X_test)))\n",
    "\n",
    "# lr = load(\"../models/lr.pkl\")"
   ]
  },
  {
   "cell_type": "code",
   "execution_count": 68,
   "metadata": {},
   "outputs": [
    {
     "data": {
      "text/plain": [
       "['../models/lr_82.pkl']"
      ]
     },
     "execution_count": 68,
     "metadata": {},
     "output_type": "execute_result"
    }
   ],
   "source": [
    "dump(lr, \"../models/lr_82.pkl\", 3)"
   ]
  },
  {
   "cell_type": "code",
   "execution_count": 63,
   "metadata": {},
   "outputs": [
    {
     "name": "stdout",
     "output_type": "stream",
     "text": [
      "              precision    recall  f1-score   support\n",
      "\n",
      "           0       0.86      0.91      0.89      7427\n",
      "           1       0.86      0.79      0.82      7427\n",
      "           2       0.92      0.94      0.93      7427\n",
      "\n",
      "    accuracy                           0.88     22281\n",
      "   macro avg       0.88      0.88      0.88     22281\n",
      "weighted avg       0.88      0.88      0.88     22281\n",
      "\n"
     ]
    }
   ],
   "source": [
    "from sklearn.ensemble import RandomForestClassifier\n",
    "\n",
    "# param_vals = {\n",
    "#     \"n_estimators\": [50, 100, 150, 200, 250],\n",
    "#     \"max_depth\": [5, 10, 15, 20, 25, 30, 35, 40, 45, 50]\n",
    "# }\n",
    "\n",
    "# rfc = GridSearchCV(RandomForestClassifier(), param_vals, verbose=1)\n",
    "# rfc.fit(X_train, y_train)\n",
    "# rfc.best_params_\n",
    "\n",
    "rfc = RandomForestClassifier(n_estimators=100, max_depth=50)\n",
    "rfc.fit(X_train, y_train)\n",
    "print(classification_report(y_test, rfc.predict(X_test)))\n",
    "\n",
    "# rfc = load(\"../models/rfc.pkl\")"
   ]
  },
  {
   "cell_type": "code",
   "execution_count": 69,
   "metadata": {},
   "outputs": [
    {
     "data": {
      "text/plain": [
       "['../models/rfc_88.pkl']"
      ]
     },
     "execution_count": 69,
     "metadata": {},
     "output_type": "execute_result"
    }
   ],
   "source": [
    "dump(rfc, \"../models/rfc_88.pkl\", 3)"
   ]
  },
  {
   "cell_type": "code",
   "execution_count": 64,
   "metadata": {},
   "outputs": [
    {
     "name": "stdout",
     "output_type": "stream",
     "text": [
      "              precision    recall  f1-score   support\n",
      "\n",
      "           0       0.87      0.87      0.87      7427\n",
      "           1       0.83      0.81      0.82      7427\n",
      "           2       0.91      0.94      0.93      7427\n",
      "\n",
      "    accuracy                           0.87     22281\n",
      "   macro avg       0.87      0.87      0.87     22281\n",
      "weighted avg       0.87      0.87      0.87     22281\n",
      "\n"
     ]
    }
   ],
   "source": [
    "from sklearn.ensemble import GradientBoostingClassifier\n",
    "\n",
    "# param_vals = {\n",
    "#     \"learning_rate\": [0.05, 0.1, 0.15, 0.2, 0.25, 0.3],\n",
    "#     \"n_estimators\": [50, 100, 150, 200, 250],\n",
    "#     \"max_depth\": [5, 10, 15, 20, 25, 30, 35, 40, 45, 50]\n",
    "# }\n",
    "# gbc = GridSearchCV(GradientBoostingClassifier(), param_vals, verbose=1)\n",
    "# gbc.fit(X_train, y_train)\n",
    "# gbc.best_params_\n",
    "\n",
    "gbc = GradientBoostingClassifier(learning_rate=0.15, n_estimators=100, max_depth=5)\n",
    "gbc.fit(X_train, y_train)\n",
    "print(classification_report(y_test, gbc.predict(X_test)))\n",
    "\n",
    "# gbc = load(\"../models/gbc.pkl\")"
   ]
  },
  {
   "cell_type": "code",
   "execution_count": 70,
   "metadata": {},
   "outputs": [
    {
     "data": {
      "text/plain": [
       "['../models/gbc_87.pkl']"
      ]
     },
     "execution_count": 70,
     "metadata": {},
     "output_type": "execute_result"
    }
   ],
   "source": [
    "dump(gbc, \"../models/gbc_87.pkl\", 3)"
   ]
  },
  {
   "cell_type": "code",
   "execution_count": 71,
   "metadata": {},
   "outputs": [
    {
     "name": "stdout",
     "output_type": "stream",
     "text": [
      "              precision    recall  f1-score   support\n",
      "\n",
      "           0       0.86      0.87      0.87      7427\n",
      "           1       0.83      0.81      0.82      7427\n",
      "           2       0.92      0.94      0.93      7427\n",
      "\n",
      "    accuracy                           0.87     22281\n",
      "   macro avg       0.87      0.87      0.87     22281\n",
      "weighted avg       0.87      0.87      0.87     22281\n",
      "\n"
     ]
    }
   ],
   "source": [
    "from sklearn.ensemble import StackingClassifier\n",
    "\n",
    "sc = StackingClassifier(\n",
    "    estimators=[\n",
    "        (\"knn\", knn),\n",
    "        (\"svc\", svc),\n",
    "        (\"lr\", lr),\n",
    "        (\"rfc\", rfc),\n",
    "        (\"gbc\", gbc),\n",
    "    ],\n",
    "    final_estimator=rfc,\n",
    ")\n",
    "sc.fit(X_train, y_train)\n",
    "print(classification_report(y_test, sc.predict(X_test)))\n",
    "\n",
    "# sc = load(\"../models/sc.pkl\")"
   ]
  },
  {
   "cell_type": "code",
   "execution_count": 74,
   "metadata": {},
   "outputs": [
    {
     "data": {
      "text/plain": [
       "['../models/sc_87.pkl']"
      ]
     },
     "execution_count": 74,
     "metadata": {},
     "output_type": "execute_result"
    }
   ],
   "source": [
    "dump(sc, \"../models/sc.pkl\", 3)"
   ]
  }
 ],
 "metadata": {
  "kernelspec": {
   "display_name": ".venv",
   "language": "python",
   "name": "python3"
  },
  "language_info": {
   "codemirror_mode": {
    "name": "ipython",
    "version": 3
   },
   "file_extension": ".py",
   "mimetype": "text/x-python",
   "name": "python",
   "nbconvert_exporter": "python",
   "pygments_lexer": "ipython3",
   "version": "3.11.8"
  }
 },
 "nbformat": 4,
 "nbformat_minor": 2
}
