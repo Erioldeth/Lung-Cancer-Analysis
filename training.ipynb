{
 "cells": [
  {
   "cell_type": "code",
   "execution_count": 73,
   "metadata": {},
   "outputs": [],
   "source": [
    "import pandas as pd\n",
    "\n",
    "data = pd.read_csv(\"data/orig_cancer_data.csv\")\n",
    "data = pd.read_csv(\"data/cancer_data.csv\")\n",
    "\n",
    "data = data.drop([\"Age\", \"Gender\", \"Snoring\", \"Swallowing Difficulty\"], axis=1)\n",
    "data[\"Level\"] = data[\"Level\"].map({\"Normal\": 0, \"Benign\": 1, \"Malignant\": 2})"
   ]
  },
  {
   "cell_type": "code",
   "execution_count": 74,
   "metadata": {},
   "outputs": [],
   "source": [
    "from imblearn.over_sampling import RandomOverSampler\n",
    "\n",
    "sampler = RandomOverSampler(random_state=4)\n",
    "X, y = sampler.fit_resample(data.drop(\"Level\", axis=1), data[\"Level\"])"
   ]
  },
  {
   "cell_type": "code",
   "execution_count": 75,
   "metadata": {},
   "outputs": [],
   "source": [
    "from sklearn.model_selection import train_test_split\n",
    "\n",
    "X_train, X_test, y_train, y_test = train_test_split(X, y, test_size=0.2, random_state=4, stratify=y)"
   ]
  },
  {
   "cell_type": "code",
   "execution_count": 20,
   "metadata": {},
   "outputs": [],
   "source": [
    "from sklearn.model_selection import RandomizedSearchCV\n",
    "from sklearn.metrics import classification_report"
   ]
  },
  {
   "cell_type": "code",
   "execution_count": 72,
   "metadata": {},
   "outputs": [
    {
     "data": {
      "text/plain": [
       "{'n_neighbors': 1}"
      ]
     },
     "execution_count": 72,
     "metadata": {},
     "output_type": "execute_result"
    }
   ],
   "source": [
    "from sklearn.neighbors import KNeighborsClassifier\n",
    "\n",
    "param_vals = {\n",
    "    \"n_neighbors\": list(range(1, 51)),\n",
    "}\n",
    "\n",
    "knn = RandomizedSearchCV(KNeighborsClassifier(), param_vals, n_iter=50)\n",
    "knn.fit(X_train, y_train)\n",
    "\n",
    "knn.best_params_"
   ]
  },
  {
   "cell_type": "code",
   "execution_count": 76,
   "metadata": {},
   "outputs": [
    {
     "name": "stdout",
     "output_type": "stream",
     "text": [
      "              precision    recall  f1-score   support\n",
      "\n",
      "           0       0.81      0.87      0.84      7427\n",
      "           1       0.79      0.72      0.75      7427\n",
      "           2       0.89      0.91      0.90      7427\n",
      "\n",
      "    accuracy                           0.83     22281\n",
      "   macro avg       0.83      0.83      0.83     22281\n",
      "weighted avg       0.83      0.83      0.83     22281\n",
      "\n"
     ]
    }
   ],
   "source": [
    "knn = KNeighborsClassifier(n_neighbors=1)\n",
    "knn.fit(X_train, y_train)\n",
    "\n",
    "print(classification_report(y_test, knn.predict(X_test)))"
   ]
  },
  {
   "cell_type": "code",
   "execution_count": 46,
   "metadata": {},
   "outputs": [
    {
     "data": {
      "text/plain": [
       "{'gamma': 0.001, 'C': 50}"
      ]
     },
     "execution_count": 46,
     "metadata": {},
     "output_type": "execute_result"
    }
   ],
   "source": [
    "from sklearn.svm import SVC\n",
    "\n",
    "param_vals = {\n",
    "    \"C\": [0.1, 0.5, 1, 5, 10, 50, 100, 500],\n",
    "    \"gamma\": [0.001,0.01,0.1,1,10,100]\n",
    "}\n",
    "\n",
    "svc = RandomizedSearchCV(SVC(), param_vals, n_iter=48)\n",
    "svc.fit(X_train, y_train)\n",
    "\n",
    "svc.best_params_"
   ]
  },
  {
   "cell_type": "code",
   "execution_count": 77,
   "metadata": {},
   "outputs": [
    {
     "name": "stdout",
     "output_type": "stream",
     "text": [
      "              precision    recall  f1-score   support\n",
      "\n",
      "           0       0.85      0.83      0.84      7427\n",
      "           1       0.79      0.79      0.79      7427\n",
      "           2       0.90      0.92      0.91      7427\n",
      "\n",
      "    accuracy                           0.85     22281\n",
      "   macro avg       0.85      0.85      0.85     22281\n",
      "weighted avg       0.85      0.85      0.85     22281\n",
      "\n"
     ]
    }
   ],
   "source": [
    "svc = SVC(C=50, gamma=0.001)\n",
    "svc.fit(X_train, y_train)\n",
    "\n",
    "print(classification_report(y_test, svc.predict(X_test)))"
   ]
  },
  {
   "cell_type": "code",
   "execution_count": 48,
   "metadata": {},
   "outputs": [
    {
     "data": {
      "text/plain": [
       "{'max_iter': 1000, 'C': 50}"
      ]
     },
     "execution_count": 48,
     "metadata": {},
     "output_type": "execute_result"
    }
   ],
   "source": [
    "from sklearn.linear_model import LogisticRegression\n",
    "\n",
    "param_vals = {\n",
    "    \"C\": [0.1, 0.5, 1, 5, 10, 50, 100, 500],\n",
    "    \"max_iter\": [1000, 1500, 2000, 2500]\n",
    "}\n",
    "\n",
    "lr = RandomizedSearchCV(LogisticRegression(), param_vals, n_iter=32)\n",
    "lr.fit(X_train, y_train)\n",
    "\n",
    "lr.best_params_"
   ]
  },
  {
   "cell_type": "code",
   "execution_count": 78,
   "metadata": {},
   "outputs": [
    {
     "name": "stdout",
     "output_type": "stream",
     "text": [
      "              precision    recall  f1-score   support\n",
      "\n",
      "           0       0.82      0.84      0.83      7427\n",
      "           1       0.75      0.70      0.73      7427\n",
      "           2       0.87      0.91      0.89      7427\n",
      "\n",
      "    accuracy                           0.82     22281\n",
      "   macro avg       0.81      0.82      0.81     22281\n",
      "weighted avg       0.81      0.82      0.81     22281\n",
      "\n"
     ]
    }
   ],
   "source": [
    "lr = LogisticRegression(C=50, max_iter=1000)\n",
    "lr.fit(X_train, y_train)\n",
    "\n",
    "print(classification_report(y_test, lr.predict(X_test)))"
   ]
  },
  {
   "cell_type": "code",
   "execution_count": 55,
   "metadata": {},
   "outputs": [
    {
     "data": {
      "text/plain": [
       "{'n_estimators': 100, 'max_depth': 50}"
      ]
     },
     "execution_count": 55,
     "metadata": {},
     "output_type": "execute_result"
    }
   ],
   "source": [
    "from sklearn.ensemble import RandomForestClassifier\n",
    "\n",
    "param_vals = {\n",
    "    \"n_estimators\": [50, 100, 150, 200, 250],\n",
    "    \"max_depth\": [5, 10, 15, 20, 25, 30, 35, 40, 45, 50]\n",
    "}\n",
    "\n",
    "rfc = RandomizedSearchCV(RandomForestClassifier(), param_vals, n_iter=50)\n",
    "rfc.fit(X_train, y_train)\n",
    "\n",
    "rfc.best_params_"
   ]
  },
  {
   "cell_type": "code",
   "execution_count": 79,
   "metadata": {},
   "outputs": [
    {
     "name": "stdout",
     "output_type": "stream",
     "text": [
      "              precision    recall  f1-score   support\n",
      "\n",
      "           0       0.86      0.91      0.88      7427\n",
      "           1       0.86      0.79      0.82      7427\n",
      "           2       0.91      0.94      0.93      7427\n",
      "\n",
      "    accuracy                           0.88     22281\n",
      "   macro avg       0.88      0.88      0.88     22281\n",
      "weighted avg       0.88      0.88      0.88     22281\n",
      "\n"
     ]
    }
   ],
   "source": [
    "rfc = RandomForestClassifier(n_estimators=100, max_depth=50)\n",
    "rfc.fit(X_train, y_train)\n",
    "\n",
    "print(classification_report(y_test, rfc.predict(X_test)))"
   ]
  },
  {
   "cell_type": "code",
   "execution_count": 57,
   "metadata": {},
   "outputs": [
    {
     "data": {
      "text/plain": [
       "{'n_estimators': 50, 'max_depth': 5, 'learning_rate': 0.05}"
      ]
     },
     "execution_count": 57,
     "metadata": {},
     "output_type": "execute_result"
    }
   ],
   "source": [
    "from sklearn.ensemble import GradientBoostingClassifier\n",
    "\n",
    "param_vals = {\n",
    "    \"learning_rate\": [0.05, 0.1, 0.15, 0.2, 0.25, 0.3],\n",
    "    \"n_estimators\": [50, 100, 150, 200, 250],\n",
    "    \"max_depth\": [5, 10, 15, 20, 25, 30, 35, 40, 45, 50]\n",
    "}\n",
    "\n",
    "gbc = RandomizedSearchCV(GradientBoostingClassifier(), param_vals, n_iter=300)\n",
    "gbc.fit(X_train, y_train)\n",
    "\n",
    "gbc.best_params_"
   ]
  },
  {
   "cell_type": "code",
   "execution_count": 80,
   "metadata": {},
   "outputs": [
    {
     "name": "stdout",
     "output_type": "stream",
     "text": [
      "              precision    recall  f1-score   support\n",
      "\n",
      "           0       0.85      0.86      0.86      7427\n",
      "           1       0.82      0.79      0.80      7427\n",
      "           2       0.90      0.93      0.91      7427\n",
      "\n",
      "    accuracy                           0.86     22281\n",
      "   macro avg       0.86      0.86      0.86     22281\n",
      "weighted avg       0.86      0.86      0.86     22281\n",
      "\n"
     ]
    }
   ],
   "source": [
    "gbc = GradientBoostingClassifier(learning_rate=0.05, n_estimators=50, max_depth=5)\n",
    "gbc.fit(X_train, y_train)\n",
    "\n",
    "print(classification_report(y_test, gbc.predict(X_test)))"
   ]
  },
  {
   "cell_type": "code",
   "execution_count": 82,
   "metadata": {},
   "outputs": [
    {
     "data": {
      "text/plain": [
       "['gbc.pkl']"
      ]
     },
     "execution_count": 82,
     "metadata": {},
     "output_type": "execute_result"
    }
   ],
   "source": [
    "from joblib import dump\n",
    "\n",
    "dump(knn, \"knn.pkl\", 3)\n",
    "dump(svc, \"svc.pkl\", 3)\n",
    "dump(lr, \"lr.pkl\", 3)\n",
    "dump(rfc, \"rfc.pkl\", 3)\n",
    "dump(gbc, \"gbc.pkl\", 3)"
   ]
  }
 ],
 "metadata": {
  "kernelspec": {
   "display_name": ".venv",
   "language": "python",
   "name": "python3"
  },
  "language_info": {
   "codemirror_mode": {
    "name": "ipython",
    "version": 3
   },
   "file_extension": ".py",
   "mimetype": "text/x-python",
   "name": "python",
   "nbconvert_exporter": "python",
   "pygments_lexer": "ipython3",
   "version": "3.11.8"
  }
 },
 "nbformat": 4,
 "nbformat_minor": 2
}
